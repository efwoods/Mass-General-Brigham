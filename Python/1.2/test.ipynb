{
 "cells": [
  {
   "cell_type": "code",
   "execution_count": 38,
   "metadata": {},
   "outputs": [
    {
     "name": "stdout",
     "output_type": "stream",
     "text": [
      "^HTML$\n",
      "^head$\n",
      "Found 3 head tags\n",
      "name: head \n",
      "type: \n",
      "<class 'bs4.element.Tag'>\n",
      "content: \n",
      "<meta charset=\"utf-8\"/>\n",
      "type: \n",
      "<class 'bs4.element.Tag'>\n",
      "content: \n",
      "<title>Twitch</title>\n",
      "type: \n",
      "<class 'bs4.element.Tag'>\n",
      "content: \n",
      "<meta content=\"https://static-cdn.jtvnw.net/jtv_user_pictures/9885ff88-f661-4415-91a0-fe6ceea21e0b-profile_image-300x300.png\" property=\"og:image\"><meta content=\"https://player.twitch.tv/?channel=vixxxie&amp;player=facebook&amp;autoplay=true&amp;parent=meta.tag\" property=\"og:video\"/><meta content=\"https://player.twitch.tv/?channel=vixxxie&amp;player=facebook&amp;autoplay=true&amp;parent=meta.tag\" property=\"og:video:secure_url\"/><meta content=\"Twitch\" name=\"twitter:app:name:ipad\"/><meta content=\"text/html\" property=\"og:video:type\"/><meta content=\"id460177396\" property=\"al:ios:app_store_id\"/><meta content=\"twitch.tv/vixxxie\" name=\"twitter:app:url:ipad\"/><meta content=\"video.other\" property=\"og:type\"/><meta content=\"https://static-cdn.jtvnw.net/jtv_user_pictures/9885ff88-f661-4415-91a0-fe6ceea21e0b-profile_image-300x300.png\" name=\"twitter:image\"/><meta content=\"tv.twitch.android.app\" property=\"al:android:package\"/><meta content=\"Twitch\" name=\"twitter:app:name:iphone\"/><meta content=\"id460177396\" name=\"twitter:app:id:ipad\"/><link href=\"https://m.twitch.tv/vixxxie\" media=\"only screen and(max-width: 640px)\" rel=\"alternate\"/><meta content=\"https://www.twitch.tv/vixxxie\" property=\"og:url\"/><meta content=\"Vixxxie - Twitch\" property=\"og:title\"/><meta content=\"Twitch\" property=\"og:site_name\"/><meta content=\"620\" property=\"og:video:width\"/><meta content=\"twitch.tv/vixxxie\" property=\"al:ios:url\"/><meta content=\"tv.twitch.android.app\" name=\"twitter:app:id:googleplay\"/><meta content=\"twitch.tv/vixxxie\" name=\"twitter:app:url:iphone\"/><meta content=\"twitch.tv/vixxxie\" name=\"twitter:app:url:googleplay\"/><meta content=\"Vixxxie - Twitch\" name=\"title\"/><meta content=\"summary\" name=\"twitter:card\"/><meta content=\"Vixxxie - Twitch\" name=\"twitter:title\"/><meta content=\"â*:ï½¥Ëâ§â¡â§Ëï½¥:*â\" name=\"twitter:description\"/><meta content=\"@twitch\" name=\"twitter:site\"/><meta content=\"161273083968709\" property=\"fb:app_id\"/><meta content=\"id460177396\" name=\"twitter:app:id:iphone\"/><meta content=\"â*:ï½¥Ëâ§â¡â§Ëï½¥:*â\" property=\"og:description\"/><meta content=\"378\" property=\"og:video:height\"/><meta content=\"Twitch\" name=\"twitter:app:name:googleplay\"/><link href=\"https://www.twitch.tv/vixxxie\" rel=\"canonical\"/><meta content=\"index\" name=\"robots\"/><meta content=\"â*:ï½¥Ëâ§â¡â§Ëï½¥:*â\" name=\"description\"/><meta content=\"Twitch\" property=\"al:ios:app_name\"/><meta content=\"Twitch\" property=\"al:android:app_name\"/><link href=\"https://www.twitch.tv/vixxxie?lang=bg\" hreflang=\"bg\" rel=\"alternate\"/><link href=\"https://www.twitch.tv/vixxxie?lang=cs\" hreflang=\"cs\" rel=\"alternate\"/><link href=\"https://www.twitch.tv/vixxxie?lang=da\" hreflang=\"da\" rel=\"alternate\"/><link href=\"https://www.twitch.tv/vixxxie?lang=de\" hreflang=\"de\" rel=\"alternate\"/><link href=\"https://www.twitch.tv/vixxxie?lang=el\" hreflang=\"el\" rel=\"alternate\"/><link href=\"https://www.twitch.tv/vixxxie?lang=es\" hreflang=\"es\" rel=\"alternate\"/><link href=\"https://www.twitch.tv/vixxxie?lang=es-mx\" hreflang=\"es-mx\" rel=\"alternate\"/><link href=\"https://www.twitch.tv/vixxxie?lang=fi\" hreflang=\"fi\" rel=\"alternate\"/><link href=\"https://www.twitch.tv/vixxxie?lang=fr\" hreflang=\"fr\" rel=\"alternate\"/><link href=\"https://www.twitch.tv/vixxxie?lang=hu\" hreflang=\"hu\" rel=\"alternate\"/><link href=\"https://www.twitch.tv/vixxxie?lang=it\" hreflang=\"it\" rel=\"alternate\"/><link href=\"https://www.twitch.tv/vixxxie?lang=ja\" hreflang=\"ja\" rel=\"alternate\"/><link href=\"https://www.twitch.tv/vixxxie?lang=ko\" hreflang=\"ko\" rel=\"alternate\"/><link href=\"https://www.twitch.tv/vixxxie?lang=nl\" hreflang=\"nl\" rel=\"alternate\"/><link href=\"https://www.twitch.tv/vixxxie?lang=no\" hreflang=\"no\" rel=\"alternate\"/><link href=\"https://www.twitch.tv/vixxxie?lang=pl\" hreflang=\"pl\" rel=\"alternate\"/><link href=\"https://www.twitch.tv/vixxxie?lang=pt\" hreflang=\"pt\" rel=\"alternate\"/><link href=\"https://www.twitch.tv/vixxxie?lang=pt-br\" hreflang=\"pt-br\" rel=\"alternate\"/><link href=\"https://www.twitch.tv/vixxxie?lang=ro\" hreflang=\"ro\" rel=\"alternate\"/><link href=\"https://www.twitch.tv/vixxxie?lang=ru\" hreflang=\"ru\" rel=\"alternate\"/><link href=\"https://www.twitch.tv/vixxxie?lang=sk\" hreflang=\"sk\" rel=\"alternate\"/><link href=\"https://www.twitch.tv/vixxxie?lang=sv\" hreflang=\"sv\" rel=\"alternate\"/><link href=\"https://www.twitch.tv/vixxxie?lang=th\" hreflang=\"th\" rel=\"alternate\"/><link href=\"https://www.twitch.tv/vixxxie?lang=tr\" hreflang=\"tr\" rel=\"alternate\"/><link href=\"https://www.twitch.tv/vixxxie?lang=vi\" hreflang=\"vi\" rel=\"alternate\"/><link href=\"https://www.twitch.tv/vixxxie?lang=zh-cn\" hreflang=\"zh-cn\" rel=\"alternate\"/><link href=\"https://www.twitch.tv/vixxxie?lang=zh-tw\" hreflang=\"zh-tw\" rel=\"alternate\"/><link href=\"https://www.twitch.tv/vixxxie\" hreflang=\"x-default\" rel=\"alternate\"/><link href=\"https://static.twitchcdn.net/assets/favicon-32-e29e246c157142c94346.png\" rel=\"icon\" sizes=\"32x32\" type=\"image/png\"/><link href=\"https://static.twitchcdn.net/assets/favicon-16-52e571ffea063af7a7f4.png\" rel=\"icon\" sizes=\"16x16\" type=\"image/png\"/><link href=\"https://api.twitch.tv/\" rel=\"dns-prefetch\"/><link href=\"https://passport.twitch.tv/\" rel=\"dns-prefetch\"/><link href=\"https://static-cdn.jtvnw.net/\" rel=\"dns-prefetch\"/><link href=\"https://api.twitch.tv/\" rel=\"preconnect\"/><link href=\"https://static-cdn.jtvnw.net/\" rel=\"preconnect\"/><script>!function(){var e,t,n,i,r={passive:!0,capture:!0},a=new Date,o=function(){i=[],t=-1,e=null,f(addEventListener)},c=function(i,r){e||(e=r,t=i,n=new Date,f(removeEventListener),u())},u=function(){if(t>=0&&t<n-a){var r={entryType:\"first-input\",name:e.type,target:e.target,cancelable:e.cancelable,startTime:e.timeStamp,processingStart:e.timeStamp+t};i.forEach((function(e){e(r)})),i=[]}},s=function(e){if(e.cancelable){var t=(e.timeStamp>1e12?new Date:performance.now())-e.timeStamp;\"pointerdown\"==e.type?function(e,t){var n=function(){c(e,t),a()},i=function(){a()},a=function(){removeEventListener(\"pointerup\",n,r),removeEventListener(\"pointercancel\",i,r)};addEventListener(\"pointerup\",n,r),addEventListener(\"pointercancel\",i,r)}(t,e):c(t,e)}},f=function(e){[\"mousedown\",\"keydown\",\"touchstart\",\"pointerdown\"].forEach((function(t){return e(t,s,r)}))},p=\"hidden\"===document.visibilityState?0:1/0;addEventListener(\"visibilitychange\",(function e(t){\"hidden\"===document.visibilityState&&(p=t.timeStamp,removeEventListener(\"visibilitychange\",e,!0))}),!0),o(),self.webVitals={firstInputPolyfill:function(e){i.push(e),u()},resetFirstInputPolyfill:o,get firstHiddenTime(){return p}}}()</script><!-- WebTransport for https://www.twitch.tv --><meta content=\"Al4GgLnwUTx/Mj0WaK4mK57NRcL9E17I2UF7y650onwBWtPuXM4hlUhhoB/P3cc2WCrHFsARHeRUw5adb9KfCQ4AAABieyJvcmlnaW4iOiJodHRwczovL3R3aXRjaC50djo0NDMiLCJmZWF0dXJlIjoiV2ViVHJhbnNwb3J0IiwiZXhwaXJ5IjoxNjQzNzU5OTk5LCJpc1N1YmRvbWFpbiI6dHJ1ZX0=\" http-equiv=\"origin-trial\"/><!-- MSE in Workers for https://twitch.tv --><meta content=\"Ag8gjMC7YpL/OUcwEHEkvOQaTSL//OWmEo9qcm/0rXZjbHCcN4YmRh7aBjNBOmmLwO3JqWrSUL6Qg1+eTmmXxAQAAABqeyJvcmlnaW4iOiJodHRwczovL3R3aXRjaC50djo0NDMiLCJmZWF0dXJlIjoiTWVkaWFTb3VyY2VJbldvcmtlcnMiLCJleHBpcnkiOjE2NDc5OTM1OTksImlzU3ViZG9tYWluIjp0cnVlfQ==\" http-equiv=\"origin-trial\"/><link href=\"https://gql.twitch.tv/\" rel=\"dns-prefetch\"/><link href=\"https://cvp.twitch.tv/\" rel=\"dns-prefetch\"/><link href=\"https://irc-ws.chat.twitch.tv/\" rel=\"dns-prefetch\"/><link href=\"https://pubsub-edge.twitch.tv/\" rel=\"dns-prefetch\"/><link href=\"https://static.twitchcdn.net/\" rel=\"dns-prefetch\"/><link href=\"https://gql.twitch.tv/\" rel=\"preconnect\"/><link href=\"https://static.twitchcdn.net/\" rel=\"preconnect\"/><link href=\"https://cvp.twitch.tv/\" rel=\"preconnect\"/><link href=\"/opensearch.xml\" rel=\"search\" type=\"application/opensearchdescription+xml\"/></meta>\n"
     ]
    }
   ],
   "source": [
    "import string, sys, argparse, bs4, requests, re\n",
    "\n",
    "url = 'https://www.twitch.tv/vixxxie'\n",
    "tags = ['HTML', 'head']\n",
    "\n",
    "def extract(url, tags):\n",
    "    res = requests.get(url);\n",
    "    res.raise_for_status();\n",
    "    soup = bs4.BeautifulSoup(res.text, 'html.parser')\n",
    "    # result = soup.find_all(re.compile(\"path\"))\n",
    "    # print(len(result))\n",
    "    # print(type(result))\n",
    "    # print(result[0])\n",
    "    for tag in tags:\n",
    "        regex_search_string = '^' + tag.strip('<!>') + '$'\n",
    "        print(regex_search_string)\n",
    "        for x in soup.find_all(re.compile(regex_search_string)):\n",
    "            print('Found {} {} tags'.format(len(x),x.name))\n",
    "            # print(x)\n",
    "            print('name: {} '.format(x.name))\n",
    "            for content in x.contents:\n",
    "                print('type: {}'.format(type(content)))\n",
    "                print('content: {}'.format(repr(content)))\n",
    "        \n",
    "    # print('res.text: ' + res.text)\n",
    "    # for string in soup.strings:\n",
    "    #     print(repr(string))\n",
    "    \n",
    "#    elems = soup.select(tags)\n",
    "#    print(elems[0].text.strip())\n",
    "\n",
    "if __name__ == '__main__':\n",
    "#    parser = argparse.ArgumentParser(description='Extract')\n",
    "#    parser.add_argument('url', type=string)\n",
    "#    args = parser.parse_args()\n",
    "    extract(url,tags);\n",
    "\n"
   ]
  }
 ],
 "metadata": {
  "interpreter": {
   "hash": "31f2aee4e71d21fbe5cf8b01ff0e069b9275f58929596ceb00d14d90e3e16cd6"
  },
  "kernelspec": {
   "display_name": "Python 3.8.9 64-bit",
   "language": "python",
   "name": "python3"
  },
  "language_info": {
   "codemirror_mode": {
    "name": "ipython",
    "version": 3
   },
   "file_extension": ".py",
   "mimetype": "text/x-python",
   "name": "python",
   "nbconvert_exporter": "python",
   "pygments_lexer": "ipython3",
   "version": "3.8.9"
  },
  "orig_nbformat": 4
 },
 "nbformat": 4,
 "nbformat_minor": 2
}
