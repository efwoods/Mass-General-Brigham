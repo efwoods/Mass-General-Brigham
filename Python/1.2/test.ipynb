{
 "cells": [
  {
   "cell_type": "code",
   "execution_count": null,
   "metadata": {},
   "outputs": [],
   "source": [
    "import string, sys, argparse, bs4, requests\n",
    "import bs4, requests\n",
    "\n",
    "url = 'https://www.twitch.tv/vixxxie'\n",
    "tags = []\n",
    "\n",
    "def extract(url, tags):\n",
    "    res = requests.get(url);\n",
    "    res.raise_for_status();\n",
    "    soup = bs4.BeautifulSoup(res.text, 'html.parser')\n",
    "#    elems = soup.select(tags)\n",
    "#    print(elems[0].text.strip())\n",
    "\n",
    "if __name__ == '__main__':\n",
    "#    parser = argparse.ArgumentParser(description='Extract')\n",
    "#    parser.add_argument('url', type=string)\n",
    "#    args = parser.parse_args()\n",
    "    extract(url,tags);\n",
    "\n"
   ]
  }
 ],
 "metadata": {
  "language_info": {
   "name": "python"
  },
  "orig_nbformat": 4
 },
 "nbformat": 4,
 "nbformat_minor": 2
}
