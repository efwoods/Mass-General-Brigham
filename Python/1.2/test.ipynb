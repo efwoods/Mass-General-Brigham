{
 "cells": [
  {
   "cell_type": "code",
   "execution_count": 48,
   "metadata": {},
   "outputs": [
    {
     "name": "stdout",
     "output_type": "stream",
     "text": [
      "body\n"
     ]
    }
   ],
   "source": [
    "import string, sys, argparse, bs4, requests, re\n",
    "\n",
    "url = 'https://www.twitch.tv/vixxxie'\n",
    "tags = []\n",
    "\n",
    "def extract(url, tags):\n",
    "    res = requests.get(url);\n",
    "    res.raise_for_status();\n",
    "    soup = bs4.BeautifulSoup(res.text, 'html.parser')\n",
    "    for tag in soup.find_all(re.compile(\"^b\")):\n",
    "        print(tag.name)\n",
    "        for string in tag.contents[0].strings:\n",
    "            print(repr(string))\n",
    "        \n",
    "#    print('res.text: ' + res.text)\n",
    "    # for string in soup.strings:\n",
    "    #     print(repr(string))\n",
    "    \n",
    "#    elems = soup.select(tags)\n",
    "#    print(elems[0].text.strip())\n",
    "\n",
    "if __name__ == '__main__':\n",
    "#    parser = argparse.ArgumentParser(description='Extract')\n",
    "#    parser.add_argument('url', type=string)\n",
    "#    args = parser.parse_args()\n",
    "    extract(url,tags);\n",
    "\n"
   ]
  }
 ],
 "metadata": {
  "interpreter": {
   "hash": "31f2aee4e71d21fbe5cf8b01ff0e069b9275f58929596ceb00d14d90e3e16cd6"
  },
  "kernelspec": {
   "display_name": "Python 3.8.9 64-bit",
   "language": "python",
   "name": "python3"
  },
  "language_info": {
   "codemirror_mode": {
    "name": "ipython",
    "version": 3
   },
   "file_extension": ".py",
   "mimetype": "text/x-python",
   "name": "python",
   "nbconvert_exporter": "python",
   "pygments_lexer": "ipython3",
   "version": "3.8.9"
  },
  "orig_nbformat": 4
 },
 "nbformat": 4,
 "nbformat_minor": 2
}
