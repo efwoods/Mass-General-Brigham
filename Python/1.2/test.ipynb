{
 "cells": [
  {
   "cell_type": "code",
   "execution_count": 3,
   "metadata": {},
   "outputs": [],
   "source": [
    "xhtml_doc = \"\"\"\n",
    "<html><head><title>The Dormouse's story</title></head>\n",
    "<body>\n",
    "<p class=\"title\"><b>The Dormouse's story</b></p>\n",
    "\n",
    "<p class=\"story\">Once upon a time there were three little sisters; and their names were\n",
    "<a href=\"http://example.com/elsie\" class=\"sister\" id=\"link1\">Elsie</a>,\n",
    "<a href=\"http://example.com/lacie\" class=\"sister\" id=\"link2\">Lacie</a> and\n",
    "<a href=\"http://example.com/tillie\" class=\"sister\" id=\"link3\">Tillie</a>;\n",
    "and they lived at the bottom of a well.</p>\n",
    "\n",
    "<p class=\"story\">...</p>\n",
    "\"\"\""
   ]
  },
  {
   "cell_type": "code",
   "execution_count": 4,
   "metadata": {},
   "outputs": [
    {
     "ename": "NameError",
     "evalue": "name 'html_doc' is not defined",
     "output_type": "error",
     "traceback": [
      "\u001b[0;31m---------------------------------------------------------------------------\u001b[0m",
      "\u001b[0;31mNameError\u001b[0m                                 Traceback (most recent call last)",
      "\u001b[1;32m/Users/home/code/Mass-General-Brigham/Python/1.2/test.ipynb Cell 2'\u001b[0m in \u001b[0;36m<cell line: 42>\u001b[0;34m()\u001b[0m\n\u001b[1;32m     <a href='vscode-notebook-cell:/Users/home/code/Mass-General-Brigham/Python/1.2/test.ipynb#ch0000001?line=24'>25</a>\u001b[0m         \u001b[39m#print(single_tag[len(single_tag)-1].strings)\u001b[39;00m\n\u001b[1;32m     <a href='vscode-notebook-cell:/Users/home/code/Mass-General-Brigham/Python/1.2/test.ipynb#ch0000001?line=25'>26</a>\u001b[0m         \n\u001b[1;32m     <a href='vscode-notebook-cell:/Users/home/code/Mass-General-Brigham/Python/1.2/test.ipynb#ch0000001?line=26'>27</a>\u001b[0m         \u001b[39m# result_list = []\u001b[39;00m\n\u001b[0;32m   (...)\u001b[0m\n\u001b[1;32m     <a href='vscode-notebook-cell:/Users/home/code/Mass-General-Brigham/Python/1.2/test.ipynb#ch0000001?line=38'>39</a>\u001b[0m         \n\u001b[1;32m     <a href='vscode-notebook-cell:/Users/home/code/Mass-General-Brigham/Python/1.2/test.ipynb#ch0000001?line=39'>40</a>\u001b[0m     \u001b[39m# return result_list;\u001b[39;00m\n\u001b[1;32m     <a href='vscode-notebook-cell:/Users/home/code/Mass-General-Brigham/Python/1.2/test.ipynb#ch0000001?line=41'>42</a>\u001b[0m \u001b[39mif\u001b[39;00m \u001b[39m__name__\u001b[39m \u001b[39m==\u001b[39m \u001b[39m'\u001b[39m\u001b[39m__main__\u001b[39m\u001b[39m'\u001b[39m:\n\u001b[1;32m     <a href='vscode-notebook-cell:/Users/home/code/Mass-General-Brigham/Python/1.2/test.ipynb#ch0000001?line=42'>43</a>\u001b[0m \u001b[39m#    parser = argparse.ArgumentParser(description='Extract')\u001b[39;00m\n\u001b[1;32m     <a href='vscode-notebook-cell:/Users/home/code/Mass-General-Brigham/Python/1.2/test.ipynb#ch0000001?line=43'>44</a>\u001b[0m \u001b[39m#    parser.add_argument('url', type=string)\u001b[39;00m\n\u001b[1;32m     <a href='vscode-notebook-cell:/Users/home/code/Mass-General-Brigham/Python/1.2/test.ipynb#ch0000001?line=44'>45</a>\u001b[0m \u001b[39m#    args = parser.parse_args()\u001b[39;00m\n\u001b[0;32m---> <a href='vscode-notebook-cell:/Users/home/code/Mass-General-Brigham/Python/1.2/test.ipynb#ch0000001?line=45'>46</a>\u001b[0m     result_l \u001b[39m=\u001b[39m extract(tags)\n",
      "\u001b[1;32m/Users/home/code/Mass-General-Brigham/Python/1.2/test.ipynb Cell 2'\u001b[0m in \u001b[0;36mextract\u001b[0;34m(tags)\u001b[0m\n\u001b[1;32m      <a href='vscode-notebook-cell:/Users/home/code/Mass-General-Brigham/Python/1.2/test.ipynb#ch0000001?line=6'>7</a>\u001b[0m \u001b[39mdef\u001b[39;00m \u001b[39mextract\u001b[39m(tags):\n\u001b[1;32m      <a href='vscode-notebook-cell:/Users/home/code/Mass-General-Brigham/Python/1.2/test.ipynb#ch0000001?line=7'>8</a>\u001b[0m     \u001b[39m# res = requests.get(url);\u001b[39;00m\n\u001b[1;32m      <a href='vscode-notebook-cell:/Users/home/code/Mass-General-Brigham/Python/1.2/test.ipynb#ch0000001?line=8'>9</a>\u001b[0m     \u001b[39m# res.raise_for_status();\u001b[39;00m\n\u001b[1;32m     <a href='vscode-notebook-cell:/Users/home/code/Mass-General-Brigham/Python/1.2/test.ipynb#ch0000001?line=9'>10</a>\u001b[0m     \u001b[39m# soup = bs4.BeautifulSoup(res.text, 'html.parser')\u001b[39;00m\n\u001b[0;32m---> <a href='vscode-notebook-cell:/Users/home/code/Mass-General-Brigham/Python/1.2/test.ipynb#ch0000001?line=11'>12</a>\u001b[0m     soup \u001b[39m=\u001b[39m bs4\u001b[39m.\u001b[39mBeautifulSoup(html_doc, \u001b[39m'\u001b[39m\u001b[39mhtml.parser\u001b[39m\u001b[39m'\u001b[39m)\n\u001b[1;32m     <a href='vscode-notebook-cell:/Users/home/code/Mass-General-Brigham/Python/1.2/test.ipynb#ch0000001?line=12'>13</a>\u001b[0m     \u001b[39m#print(soup.prettify())\u001b[39;00m\n\u001b[1;32m     <a href='vscode-notebook-cell:/Users/home/code/Mass-General-Brigham/Python/1.2/test.ipynb#ch0000001?line=13'>14</a>\u001b[0m     \u001b[39mprint\u001b[39m(\u001b[39m'\u001b[39m\u001b[39mlen of tags: \u001b[39m\u001b[39m{}\u001b[39;00m\u001b[39m'\u001b[39m\u001b[39m.\u001b[39mformat(\u001b[39mlen\u001b[39m(tags)))\n",
      "\u001b[0;31mNameError\u001b[0m: name 'html_doc' is not defined"
     ]
    }
   ],
   "source": [
    "import string, sys, argparse, bs4, requests, re\n",
    "\n",
    "url = 'https://www.twitch.tv/'\n",
    "\n",
    "tags = ['HTML', 'title', 'head', 'body', 'p', 'b', 'a']\n",
    "\n",
    "def extract(tags):\n",
    "    # res = requests.get(url);\n",
    "    # res.raise_for_status();\n",
    "    # soup = bs4.BeautifulSoup(res.text, 'html.parser')\n",
    "\n",
    "    soup = bs4.BeautifulSoup(html_doc, 'html.parser')\n",
    "    #print(soup.prettify())\n",
    "    print('len of tags: {}'.format(len(tags)))\n",
    "    for tag_index in range(0,len(tags)):\n",
    "        print('tag #{}:'.format(tag_index+1))\n",
    "        regex_search_string = \"^\" + tags[tag_index].strip('<!/>') + \"$\"\n",
    "        print('regex search string: {}'.format(regex_search_string))\n",
    "        single_tag = soup.find_all(re.compile(regex_search_string,re.I))\n",
    "        print(single_tag)\n",
    "        print('result length: {}'.format(len(single_tag)))\n",
    "        for string in single_tag.strings:\n",
    "            print('printing string')\n",
    "            print(repr(string))\n",
    "        #print(single_tag[len(single_tag)-1].strings)\n",
    "        \n",
    "        # result_list = []\n",
    "        # i = 0;\n",
    "        # for result in results:\n",
    "        #     # print('result name: {}'.format(result.name))\n",
    "        #     print('result string #{}: {}\\n'.format(i+1, result.string))\n",
    "        #     print('result:'.format(result))\n",
    "        #     print('result.name:{}'.format(result.name))\n",
    "        #     print(type(result.string))\n",
    "            \n",
    "        #     if result.string != 'None':\n",
    "        #        result_list.append(result.string)\n",
    "        #     i+=1;\n",
    "        \n",
    "    # return result_list;\n",
    "\n",
    "if __name__ == '__main__':\n",
    "#    parser = argparse.ArgumentParser(description='Extract')\n",
    "#    parser.add_argument('url', type=string)\n",
    "#    args = parser.parse_args()\n",
    "    result_l = extract(tags);\n",
    "    # i = 0;\n",
    "    # for str in result_l:\n",
    "    #     print('number of result strings: {}'.format(len(result_l)))\n",
    "    #     print('string #{}: {}'.format(i+1, str))\n",
    "    #     i+=1;\n",
    "\n"
   ]
  },
  {
   "cell_type": "markdown",
   "metadata": {},
   "source": []
  }
 ],
 "metadata": {
  "interpreter": {
   "hash": "31f2aee4e71d21fbe5cf8b01ff0e069b9275f58929596ceb00d14d90e3e16cd6"
  },
  "kernelspec": {
   "display_name": "Python 3.8.9 64-bit",
   "language": "python",
   "name": "python3"
  },
  "language_info": {
   "codemirror_mode": {
    "name": "ipython",
    "version": 3
   },
   "file_extension": ".py",
   "mimetype": "text/x-python",
   "name": "python",
   "nbconvert_exporter": "python",
   "pygments_lexer": "ipython3",
   "version": "3.8.9"
  },
  "orig_nbformat": 4
 },
 "nbformat": 4,
 "nbformat_minor": 2
}
