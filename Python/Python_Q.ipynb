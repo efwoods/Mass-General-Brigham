{
 "cells": [
  {
   "cell_type": "code",
   "execution_count": 50,
   "metadata": {},
   "outputs": [
    {
     "name": "stderr",
     "output_type": "stream",
     "text": [
      "UsageError: %%python is a cell magic, but the cell body is empty.\n"
     ]
    }
   ],
   "source": [
    "%%python 1 2 3"
   ]
  },
  {
   "cell_type": "code",
   "execution_count": 51,
   "metadata": {},
   "outputs": [],
   "source": [
    "import math\n",
    "import argparse\n",
    "import sys"
   ]
  },
  {
   "cell_type": "code",
   "execution_count": 52,
   "metadata": {},
   "outputs": [],
   "source": [
    "def convertInputListToInt(val_list):\n",
    "    converted_val_list = []\n",
    "    for val in val_list:\n",
    "        result = int(val)\n",
    "        converted_val_list.append(result)\n",
    "    return converted_val_list"
   ]
  },
  {
   "cell_type": "code",
   "execution_count": 53,
   "metadata": {},
   "outputs": [],
   "source": [
    "# input: 3 numbers\n",
    "# output: list of absolute values of input 3 numbers\n",
    "def convertThreeToAbsoluteVal(val1, val2, val3):\n",
    "    val_list =[]\n",
    "    val_absolute_list = []\n",
    "    val_list = [val1, val2, val3]\n",
    "    val_list = convertInputListToInt(val_list) #type checking\n",
    "    for val in val_list:\n",
    "        val_absolute_list.append(math.fabs(val))\n",
    "    return val_absolute_list"
   ]
  },
  {
   "cell_type": "code",
   "execution_count": 54,
   "metadata": {},
   "outputs": [],
   "source": [
    "def maximumAbsoluteOfThree(val1, val2, val3):\n",
    "    val_absolute_list = []\n",
    "    val_absolute_list = convertThreeToAbsoluteVal(val1,val2,val3)\n",
    "    return max(val_absolute_list)"
   ]
  },
  {
   "cell_type": "code",
   "execution_count": 55,
   "metadata": {},
   "outputs": [],
   "source": [
    "test1 = 1\n",
    "test2 = 2\n",
    "test3 = 3"
   ]
  },
  {
   "cell_type": "code",
   "execution_count": 56,
   "metadata": {},
   "outputs": [
    {
     "ename": "ValueError",
     "evalue": "invalid literal for int() with base 10: '/Users/home/Library/Python/3.8/lib/python/site-packages/ipykernel_launcher.py'",
     "output_type": "error",
     "traceback": [
      "\u001b[0;31m---------------------------------------------------------------------------\u001b[0m",
      "\u001b[0;31mValueError\u001b[0m                                Traceback (most recent call last)",
      "\u001b[1;32m/Users/home/code/Mass-General-Brigham/Python/Python_Q.ipynb Cell 7'\u001b[0m in \u001b[0;36m<cell line: 1>\u001b[0;34m()\u001b[0m\n\u001b[1;32m      <a href='vscode-notebook-cell:/Users/home/code/Mass-General-Brigham/Python/Python_Q.ipynb#ch0000005?line=0'>1</a>\u001b[0m \u001b[39mif\u001b[39;00m \u001b[39m__name__\u001b[39m \u001b[39m==\u001b[39m \u001b[39m'\u001b[39m\u001b[39m__main__\u001b[39m\u001b[39m'\u001b[39m:\n\u001b[1;32m      <a href='vscode-notebook-cell:/Users/home/code/Mass-General-Brigham/Python/Python_Q.ipynb#ch0000005?line=1'>2</a>\u001b[0m \u001b[39m#    parser = argparse.ArgumentParser()\u001b[39;00m\n\u001b[1;32m      <a href='vscode-notebook-cell:/Users/home/code/Mass-General-Brigham/Python/Python_Q.ipynb#ch0000005?line=2'>3</a>\u001b[0m \u001b[39m#    parser.add_argument('val1', type=int)\u001b[39;00m\n\u001b[0;32m   (...)\u001b[0m\n\u001b[1;32m      <a href='vscode-notebook-cell:/Users/home/code/Mass-General-Brigham/Python/Python_Q.ipynb#ch0000005?line=5'>6</a>\u001b[0m \u001b[39m#    args = parser.parse_args()\u001b[39;00m\n\u001b[1;32m      <a href='vscode-notebook-cell:/Users/home/code/Mass-General-Brigham/Python/Python_Q.ipynb#ch0000005?line=6'>7</a>\u001b[0m \u001b[39m#    print(sys.argv)\u001b[39;00m\n\u001b[0;32m----> <a href='vscode-notebook-cell:/Users/home/code/Mass-General-Brigham/Python/Python_Q.ipynb#ch0000005?line=7'>8</a>\u001b[0m     result \u001b[39m=\u001b[39m maximumAbsoluteOfThree(sys\u001b[39m.\u001b[39;49margv[\u001b[39m0\u001b[39;49m], sys\u001b[39m.\u001b[39;49margv[\u001b[39m1\u001b[39;49m], sys\u001b[39m.\u001b[39;49margv[\u001b[39m2\u001b[39;49m])\n\u001b[1;32m      <a href='vscode-notebook-cell:/Users/home/code/Mass-General-Brigham/Python/Python_Q.ipynb#ch0000005?line=8'>9</a>\u001b[0m     \u001b[39mprint\u001b[39m(result)\n",
      "\u001b[1;32m/Users/home/code/Mass-General-Brigham/Python/Python_Q.ipynb Cell 5'\u001b[0m in \u001b[0;36mmaximumAbsoluteOfThree\u001b[0;34m(val1, val2, val3)\u001b[0m\n\u001b[1;32m      <a href='vscode-notebook-cell:/Users/home/code/Mass-General-Brigham/Python/Python_Q.ipynb#ch0000003?line=0'>1</a>\u001b[0m \u001b[39mdef\u001b[39;00m \u001b[39mmaximumAbsoluteOfThree\u001b[39m(val1, val2, val3):\n\u001b[1;32m      <a href='vscode-notebook-cell:/Users/home/code/Mass-General-Brigham/Python/Python_Q.ipynb#ch0000003?line=1'>2</a>\u001b[0m     val_absolute_list \u001b[39m=\u001b[39m []\n\u001b[0;32m----> <a href='vscode-notebook-cell:/Users/home/code/Mass-General-Brigham/Python/Python_Q.ipynb#ch0000003?line=2'>3</a>\u001b[0m     val_absolute_list \u001b[39m=\u001b[39m convertThreeToAbsoluteVal(val1,val2,val3)\n\u001b[1;32m      <a href='vscode-notebook-cell:/Users/home/code/Mass-General-Brigham/Python/Python_Q.ipynb#ch0000003?line=3'>4</a>\u001b[0m     \u001b[39mreturn\u001b[39;00m \u001b[39mmax\u001b[39m(val_absolute_list)\n",
      "\u001b[1;32m/Users/home/code/Mass-General-Brigham/Python/Python_Q.ipynb Cell 4'\u001b[0m in \u001b[0;36mconvertThreeToAbsoluteVal\u001b[0;34m(val1, val2, val3)\u001b[0m\n\u001b[1;32m      <a href='vscode-notebook-cell:/Users/home/code/Mass-General-Brigham/Python/Python_Q.ipynb#ch0000002?line=4'>5</a>\u001b[0m val_absolute_list \u001b[39m=\u001b[39m []\n\u001b[1;32m      <a href='vscode-notebook-cell:/Users/home/code/Mass-General-Brigham/Python/Python_Q.ipynb#ch0000002?line=5'>6</a>\u001b[0m val_list \u001b[39m=\u001b[39m [val1, val2, val3]\n\u001b[0;32m----> <a href='vscode-notebook-cell:/Users/home/code/Mass-General-Brigham/Python/Python_Q.ipynb#ch0000002?line=6'>7</a>\u001b[0m val_list \u001b[39m=\u001b[39m convertInputListToInt(val_list) \u001b[39m#type checking\u001b[39;00m\n\u001b[1;32m      <a href='vscode-notebook-cell:/Users/home/code/Mass-General-Brigham/Python/Python_Q.ipynb#ch0000002?line=7'>8</a>\u001b[0m \u001b[39mfor\u001b[39;00m val \u001b[39min\u001b[39;00m val_list:\n\u001b[1;32m      <a href='vscode-notebook-cell:/Users/home/code/Mass-General-Brigham/Python/Python_Q.ipynb#ch0000002?line=8'>9</a>\u001b[0m     val_absolute_list\u001b[39m.\u001b[39mappend(math\u001b[39m.\u001b[39mfabs(val))\n",
      "\u001b[1;32m/Users/home/code/Mass-General-Brigham/Python/Python_Q.ipynb Cell 3'\u001b[0m in \u001b[0;36mconvertInputListToInt\u001b[0;34m(val_list)\u001b[0m\n\u001b[1;32m      <a href='vscode-notebook-cell:/Users/home/code/Mass-General-Brigham/Python/Python_Q.ipynb#ch0000007?line=1'>2</a>\u001b[0m converted_val_list \u001b[39m=\u001b[39m []\n\u001b[1;32m      <a href='vscode-notebook-cell:/Users/home/code/Mass-General-Brigham/Python/Python_Q.ipynb#ch0000007?line=2'>3</a>\u001b[0m \u001b[39mfor\u001b[39;00m val \u001b[39min\u001b[39;00m val_list:\n\u001b[0;32m----> <a href='vscode-notebook-cell:/Users/home/code/Mass-General-Brigham/Python/Python_Q.ipynb#ch0000007?line=3'>4</a>\u001b[0m     result \u001b[39m=\u001b[39m \u001b[39mint\u001b[39;49m(val)\n\u001b[1;32m      <a href='vscode-notebook-cell:/Users/home/code/Mass-General-Brigham/Python/Python_Q.ipynb#ch0000007?line=4'>5</a>\u001b[0m     converted_val_list\u001b[39m.\u001b[39mappend(result)\n\u001b[1;32m      <a href='vscode-notebook-cell:/Users/home/code/Mass-General-Brigham/Python/Python_Q.ipynb#ch0000007?line=5'>6</a>\u001b[0m \u001b[39mreturn\u001b[39;00m converted_val_list\n",
      "\u001b[0;31mValueError\u001b[0m: invalid literal for int() with base 10: '/Users/home/Library/Python/3.8/lib/python/site-packages/ipykernel_launcher.py'"
     ]
    }
   ],
   "source": [
    "if __name__ == '__main__':\n",
    "#    parser = argparse.ArgumentParser()\n",
    "#    parser.add_argument('val1', type=int)\n",
    "#    parser.add_argument('val2', type=int)\n",
    "#    parser.add_argument('val3', type=int)\n",
    "#    args = parser.parse_args()\n",
    "    print(sys.argv[0])\n",
    "#    result = maximumAbsoluteOfThree(sys.argv[0], sys.argv[1], sys.argv[2])\n",
    "#    print(result)"
   ]
  },
  {
   "cell_type": "code",
   "execution_count": 57,
   "metadata": {},
   "outputs": [
    {
     "data": {
      "text/plain": [
       "3.0"
      ]
     },
     "execution_count": 57,
     "metadata": {},
     "output_type": "execute_result"
    }
   ],
   "source": [
    "maximumAbsoluteOfThree(test1, test2, test3)"
   ]
  }
 ],
 "metadata": {
  "interpreter": {
   "hash": "31f2aee4e71d21fbe5cf8b01ff0e069b9275f58929596ceb00d14d90e3e16cd6"
  },
  "kernelspec": {
   "display_name": "Python 3.8.9 64-bit",
   "language": "python",
   "name": "python3"
  },
  "language_info": {
   "codemirror_mode": {
    "name": "ipython",
    "version": 3
   },
   "file_extension": ".py",
   "mimetype": "text/x-python",
   "name": "python",
   "nbconvert_exporter": "python",
   "pygments_lexer": "ipython3",
   "version": "3.8.9"
  },
  "orig_nbformat": 4
 },
 "nbformat": 4,
 "nbformat_minor": 2
}
